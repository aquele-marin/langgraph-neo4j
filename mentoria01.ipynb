{
 "cells": [
  {
   "cell_type": "markdown",
   "id": "cc4edd5b",
   "metadata": {},
   "source": [
    "# Langchain"
   ]
  },
  {
   "cell_type": "code",
   "execution_count": 2,
   "id": "c367f58e",
   "metadata": {},
   "outputs": [],
   "source": [
    "import os\n",
    "from dotenv import load_dotenv\n",
    "from langchain_google_genai import ChatGoogleGenerativeAI\n",
    "\n",
    "_ = load_dotenv()"
   ]
  },
  {
   "cell_type": "code",
   "execution_count": 3,
   "id": "f75e8905",
   "metadata": {},
   "outputs": [
    {
     "name": "stdout",
     "output_type": "stream",
     "text": [
      "Pedro Álvares Cabral\n"
     ]
    }
   ],
   "source": [
    "model = ChatGoogleGenerativeAI(api_key=os.getenv(\"GOOGLE_API_KEY\"), model=\"gemini-2.5-flash\", temperature=0.4)\n",
    "\n",
    "out = model.invoke(\"Quem descobriu o Brasil? Responda apenas o nome da pessoa.\")\n",
    "print(out.content)"
   ]
  },
  {
   "cell_type": "code",
   "execution_count": 4,
   "metadata": {},
   "outputs": [
    {
     "name": "stdout",
     "output_type": "stream",
     "text": [
      "Você acabou de me perguntar: \"O que eu acabei de te perguntar?\".\n"
     ]
    }
   ],
   "source": [
    "out = model.invoke(\"O que eu acabei de te perguntar?\")\n",
    "print(out.content)"
   ]
  },
  {
   "cell_type": "code",
   "execution_count": 5,
   "metadata": {},
   "outputs": [
    {
     "name": "stdout",
     "output_type": "stream",
     "text": [
      "Você me perguntou: \"Quem descobriu o Brasil? Responda apenas o nome da pessoa.\"\n"
     ]
    }
   ],
   "source": [
    "out = model.invoke(\n",
    "    [\n",
    "        (\"human\", \"Quem descobriu o Brasil? Responda apenas o nome da pessoa.\"),\n",
    "        (\"ai\", \"Pedro Alvares Cabral.\"),\n",
    "        (\"human\", \"O que eu acabei de te perguntar?\"),\n",
    "    ]\n",
    ")\n",
    "\n",
    "print(out.content)"
   ]
  },
  {
   "cell_type": "code",
   "execution_count": 6,
   "id": "6b1931ca",
   "metadata": {},
   "outputs": [
    {
     "name": "stdout",
     "output_type": "stream",
     "text": [
      "Você me perguntou: \"Quem descobriu o Brasil?\"\n"
     ]
    }
   ],
   "source": [
    "from langchain_core.messages import HumanMessage, AIMessage\n",
    "\n",
    "out = model.invoke(\n",
    "    [\n",
    "        HumanMessage(\n",
    "            content=\"Quem descobriu o Brasil? Responda apenas o nome da pessoa.\"\n",
    "        ),\n",
    "        AIMessage(content=\"Pedro Alvares Cabral.\"),\n",
    "        HumanMessage(content=\"O que eu acabei de te perguntar?\"),\n",
    "    ]\n",
    ")\n",
    "\n",
    "print(out.content)"
   ]
  },
  {
   "cell_type": "code",
   "execution_count": 7,
   "id": "7bbbeff3",
   "metadata": {},
   "outputs": [
    {
     "data": {
      "text/plain": [
       "ChatPromptValue(messages=[HumanMessage(content='Faça uma análise sobre: Brasil', additional_kwargs={}, response_metadata={})])"
      ]
     },
     "execution_count": 7,
     "metadata": {},
     "output_type": "execute_result"
    }
   ],
   "source": [
    "from langchain_core.prompts import ChatPromptTemplate\n",
    "\n",
    "prompt_template = ChatPromptTemplate([(\"human\", \"Faça uma análise sobre: {country}\")])\n",
    "\n",
    "out = prompt_template.invoke({\"country\": \"Brasil\"})\n",
    "\n",
    "out"
   ]
  },
  {
   "cell_type": "code",
   "execution_count": 8,
   "id": "c46d62ff",
   "metadata": {},
   "outputs": [
    {
     "name": "stdout",
     "output_type": "stream",
     "text": [
      "O Brasil é um país de dimensões continentais, uma das maiores economias do mundo e detentor de uma riqueza natural e cultural inigualável. No entanto, é também uma nação marcada por profundos contrastes e desafios estruturais.\n",
      "\n",
      "Para fazer uma análise abrangente, podemos dividi-la em alguns eixos:\n",
      "\n",
      "---\n",
      "\n",
      "### Análise sobre o Brasil\n",
      "\n",
      "**1. Pontos Fortes e Oportunidades:**\n",
      "\n",
      "*   **Riqueza Natural e Biodiversidade:** O Brasil possui a maior floresta tropical do mundo (Amazônia), o Pantanal, a Mata Atlântica e uma vasta costa litorânea. Essa biodiversidade oferece um potencial imenso para a bioeconomia, ecoturismo e pesquisa científica, além de ser crucial para o equilíbrio climático global.\n",
      "*   **Recursos Naturais e Agronegócio:** É um dos maiores produtores e exportadores de commodities agrícolas (soja, milho, café, carne) e minerais (minério de ferro). O agronegócio é um pilar da economia, gerando superávits comerciais.\n",
      "*   **Potencial Energético:** Grande potencial para energias renováveis (hidrelétrica, eólica, solar, biomassa), o que o posiciona favoravelmente na transição energética global.\n",
      "*   **Mercado Interno Vasto:** Com mais de 215 milhões de habitantes, o Brasil possui um grande mercado consumidor, o que atrai investimentos e impulsiona a economia.\n",
      "*   **Diversidade Cultural e Criatividade:** A miscigenação étnica resultou em uma cultura rica e vibrante, com forte influência na música, culinária, artes e esportes (especialmente o futebol). A criatividade e a resiliência do povo brasileiro são notáveis.\n",
      "*   **Posição Geopolítica:** É um ator relevante na América Latina e em fóruns internacionais (BRICS, G20), com potencial para liderar discussões sobre desenvolvimento sustentável e cooperação regional.\n",
      "\n",
      "**2. Desafios e Fragilidades:**\n",
      "\n",
      "*   **Desigualdade Social:** Uma das maiores e mais persistentes desigualdades de renda do mundo. Isso se reflete no acesso desigual à educação de qualidade, saúde, saneamento básico e moradia, perpetuando ciclos de pobreza.\n",
      "*   **Educação e Inovação:** Apesar de avanços, a qualidade da educação pública ainda é um gargalo, impactando a produtividade e a capacidade de inovação do país. O investimento em pesquisa e desenvolvimento, embora crescente, ainda é insuficiente para o potencial brasileiro.\n",
      "*   **Infraestrutura Deficiente:** A logística de transporte (rodovias, ferrovias, portos), saneamento básico e acesso à internet de qualidade ainda são precários em muitas regiões, elevando o \"Custo Brasil\" e dificultando o desenvolvimento.\n",
      "*   **Corrupção e Instabilidade Política:** A corrupção sistêmica e a polarização política têm gerado crises institucionais, minando a confiança dos investidores e da população nas instituições. A burocracia excessiva e a complexidade tributária também são entraves.\n",
      "*   **Segurança Pública:** Altas taxas de criminalidade, violência urbana e rural, e a atuação de facções criminosas representam um desafio constante para a segurança e o bem-estar da população.\n",
      "*   **Questões Ambientais:** O desmatamento na Amazônia e em outros biomas, a mineração ilegal e a poluição são preocupações globais e nacionais, que afetam a imagem do país e comprometem seu futuro sustentável.\n",
      "*   **Dependência de Commodities:** A economia ainda é muito dependente da exportação de commodities, tornando-a vulnerável às flutuações do mercado internacional. A diversificação e a agregação de valor são desafios contínuos.\n",
      "*   **Dívida Pública e Fiscal:** O alto endividamento público e a rigidez orçamentária limitam a capacidade do governo de investir em áreas essenciais e implementar políticas de longo prazo.\n",
      "\n",
      "**3. Cenário Atual e Perspectivas:**\n",
      "\n",
      "O Brasil vive um momento de busca por estabilidade econômica e social após períodos de turbulência. Há um esforço para controlar a inflação, reformar o sistema tributário e atrair investimentos. A questão ambiental continua no centro do debate, com pressões internas e externas por uma gestão mais sustentável.\n",
      "\n",
      "A polarização política, embora menos intensa que em anos anteriores, ainda é uma realidade, exigindo diálogo e construção de consensos para avançar em reformas estruturais.\n",
      "\n",
      "**Conclusão:**\n",
      "\n",
      "O Brasil é, em essência, um país de **paradoxos**. Possui um potencial gigantesco para ser uma potência global, tanto econômica quanto ambiental e cultural. No entanto, para que esse potencial seja plenamente realizado, é imperativo enfrentar seus desafios históricos: reduzir a desigualdade, investir massivamente em educação e inovação, modernizar sua infraestrutura, fortalecer suas instituições e garantir a sustentabilidade ambiental.\n",
      "\n",
      "O futuro do Brasil dependerá da sua capacidade de conciliar desenvolvimento econômico com justiça social e preservação ambiental, construindo um projeto de nação que seja inclusivo, próspero e sustentável.\n"
     ]
    }
   ],
   "source": [
    "out = prompt_template.invoke({\"country\": \"Brasil\"})\n",
    "\n",
    "out = model.invoke(out)\n",
    "\n",
    "print(out.content)"
   ]
  },
  {
   "cell_type": "code",
   "execution_count": 13,
   "id": "87b5ba2e",
   "metadata": {},
   "outputs": [
    {
     "name": "stdout",
     "output_type": "stream",
     "text": [
      "Fazer uma análise abrangente sobre o Brasil exige considerar diversos aspectos, incluindo sua geografia, economia, sociedade, política, cultura e desafios atuais. Abaixo segue uma visão geral de alguns desses aspectos:\n",
      "\n",
      "### Geografia\n",
      "- **Localização**: O Brasil é o maior país da América do Sul e o quinto maior do mundo, cobrindo uma vasta área no continente sul-americano.\n",
      "- **Diversidade**: O país é conhecido por sua diversidade geográfica, incluindo a Floresta Amazônica, o Pantanal, a Mata Atlântica, além de extensas planícies e um litoral impressionante.\n",
      "- **Clima**: Predominantemente tropical, com variações subtropicais ao sul.\n",
      "\n",
      "### Economia\n",
      "- **PIB e Indústria**: O Brasil é uma das maiores economias do mundo, com um PIB que inclui um mix de indústrias, serviços e um setor agrícola robusto. Destaca-se na produção de commodities como soja, café e minério de ferro.\n",
      "- **Desafios Econômicos**: O país enfrenta desafios como desigualdade social, infraestrutura deficiente e burocracia.\n",
      "- **Reformas**: Nos últimos anos, houve esforços para implementar reformas fiscais e trabalhistas para estimular o crescimento econômico.\n",
      "\n",
      "### Política\n",
      "- **Sistema de Governo**: O Brasil é uma república federativa presidencialista. As eleições ocorrem regularmente e são um aspecto fundamental da democracia brasileira.\n",
      "- **Corrupção**: A corrupção é um problema persistente, com diversos escândalos nos últimos anos que impactaram negativamente a confiança pública.\n",
      "- **Polarização**: A política brasileira está marcada por uma crescente polarização, com debates intensos sobre questões econômicas, sociais e ambientais.\n",
      "\n",
      "### Sociedade\n",
      "- **Diversidade**: O Brasil possui uma população diversificada em termos de etnia, cultura e religião. É um país multicultural, com uma forte influência de culturas indígenas, africanas e europeias.\n",
      "- **Desigualdade**: A desigualdade social é um dos principais desafios, com diferenças significativas em acesso a educação, saúde e oportunidades econômicas.\n",
      "- **Educação e Saúde**: Há progressos, mas o sistema educacional e de saúde pública ainda enfrenta desafios significativos em termos de qualidade e acessibilidade.\n",
      "\n",
      "### Cultura\n",
      "- **Riqueza Cultural**: O Brasil é famoso por sua música, carnaval, futebol e arte. O samba e a bossa nova são gêneros musicais mundialmente reconhecidos.\n",
      "- **Influência Global**: A cultura brasileira tem uma presença forte no cenário global, influenciando áreas como moda, culinária e arte.\n",
      "\n",
      "### Meio Ambiente\n",
      "- **Desafios Ambientais**: A preservação da Amazônia é uma questão ambiental crítica. O desmatamento e a conservação da biodiversidade são questões de preocupação global.\n",
      "- **Energia Renovável**: O Brasil é um dos líderes mundiais em energia renovável, especialmente em biocombustíveis e hidrelétricas.\n",
      "\n",
      "### Desafios e Oportunidades\n",
      "- **Desafios**: Além dos desafios mencionados, o Brasil precisa lidar com questões como violência urbana, corrupção e reformas políticas para melhorar a governança.\n",
      "- **Oportunidades**: Com seus vastos recursos naturais, potencial humano e cultural, o Brasil tem potencial para desempenhar um papel ainda mais significativo no cenário global, especialmente se conseguir superar os desafios internos.\n",
      "\n",
      "Esta análise fornece uma visão geral de alguns dos aspectos mais importantes do Brasil. É importante notar que, como um país vasto e complexo, existem muitas outras nuances a serem consideradas em uma análise mais detalhada.\n"
     ]
    }
   ],
   "source": [
    "agent = prompt_template | model\n",
    "\n",
    "out = agent.invoke({\"country\": \"Brasil\"})\n",
    "\n",
    "print(out.content)"
   ]
  },
  {
   "cell_type": "code",
   "execution_count": 9,
   "metadata": {},
   "outputs": [
    {
     "name": "stdout",
     "output_type": "stream",
     "text": [
      "Eita, Brasil! Pense numa riqueza, visse? Falar da culinária brasileira é como tentar abraçar o mundo com os braços abertos: é grande demais, diverso demais, e cada pedacinho tem um sabor que é só dele!\n",
      "\n",
      "Mermão, não dá pra falar de \"uma\" culinária brasileira. O que a gente tem é um caldeirão cultural, uma explosão de sabores que vem da mistura de três grandes fontes, e depois de mais um monte de gente que chegou por aqui:\n",
      "\n",
      "1.  **A herança indígena:** Nossos índios, os primeiros donos da terra, nos deram a base de tudo: a mandioca (ou macaxeira, ou aipim, dependendo de onde tu tá!), o milho, a batata-doce, o caju, o açaí (que eles comiam salgado, visse?), e um monte de peixe de rio. Eles nos ensinaram a usar as folhas, as raízes, os frutos da floresta.\n",
      "2.  **A influência portuguesa:** Os patrícios trouxeram o arroz, o feijão (que virou nosso pilar!), o bacalhau, a carne de porco, o azeite, e uma paixão danada por doces à base de ovos e açúcar. A técnica de refogar, de fazer caldos, de fritar... tudo veio de lá.\n",
      "3.  **A força africana:** Ah, os africanos! Eles trouxeram o dendê, o quiabo, o leite de coco, a pimenta malagueta, e uma sabedoria incrível pra transformar ingredientes simples em pratos complexos e cheios de sabor. A feijoada, o vatapá, o acarajé... tudo tem um pé forte na África.\n",
      "\n",
      "E depois, oxente, vieram os imigrantes! Italianos com suas massas e pizzas, alemães com suas salsichas e cucas, japoneses com seus sushis e temakis... Cada um deixou um pedacinho de si na nossa mesa, principalmente nas grandes cidades.\n",
      "\n",
      "Agora, vamos dar uma viajada por esse Brasilzão, que é pra tu entender a dimensão da coisa:\n",
      "\n",
      "*   **Lá pras bandas do Norte (Amazonas, Pará):** A culinária é um mergulho na floresta. Peixe de rio (pirarucu, tambaqui), tucupi (um caldo amarelo extraído da mandioca brava), jambu (uma erva que adormece a boca!), açaí (com farinha de tapioca e peixe, visse?), pato no tucupi, tacacá. É exótico, é único, é a cara da Amazônia.\n",
      "*   **O meu Nordeste (Bahia, Pernambuco, Paraíba, Ceará...):** Ah, aqui a gente sente o cheiro da África e do sertão misturados! Na Bahia, a explosão de dendê, pimenta e leite de coco: acarajé, moqueca, vatapá, bobó de camarão. No sertão, a carne de sol, o queijo coalho, a buchada de bode, o baião de dois, a paçoca de carne. Aqui na Paraíba, um baião de dois com carne de sol e queijo coalho, um cuscuz com bode, uma tapioca com manteiga de garrafa... é de comer rezando! E o cuscuz, mermão, é a base de tudo, seja no café da manhã, almoço ou janta.\n",
      "*   **No coração do Brasil (Centro-Oeste - Goiás, Mato Grosso):** A influência do Pantanal e do Cerrado. Muito peixe de rio também, o famoso pequi (uma fruta de sabor e cheiro marcantes, que tem que comer com cuidado pra não espetar a boca!), empadão goiano, arroz com pequi, galinhada. É uma comida mais rústica, com os sabores da terra.\n",
      "*   **Descendo pro Sudeste (Minas Gerais, São Paulo, Rio de Janeiro):**\n",
      "    *   **Minas Gerais:** Ah, Minas! Terra do pão de queijo, do frango com quiabo, do tutu de feijão, do feijão tropeiro, da couve refogada, da cachaça... É a comida de vó, de fazenda, de afeto. É simples, mas com um sabor que abraça a alma.\n",
      "    *   **São Paulo:** Uma metrópole que abraça o mundo. Tu encontra de tudo: pizza, pasta, comida japonesa, árabe... Mas também tem o virado à paulista, o cuscuz paulista, o sanduíche de mortadela do Mercadão. É a diversidade em seu estado mais puro.\n",
      "    *   **Rio de Janeiro:** A feijoada completa (que virou quase um prato nacional), os frutos do mar, o bolinho de bacalhau, o picadinho. É uma culinária que reflete a alegria e a boemia carioca.\n",
      "*   **E lá no Sul (Rio Grande do Sul, Santa Catarina, Paraná):** A influência europeia é fortíssima. O churrasco gaúcho (com a carne assada na brasa, sem frescura!), o chimarrão, o pinhão (semente da araucária), o barreado (um cozido de carne feito em panela de barro vedada), a cuca alemã, a polenta italiana. É uma comida mais robusta, que combina com o clima mais frio.\n",
      "\n",
      "Viu só? O Brasil é um banquete sem fim! Cada região tem seus ingredientes, suas técnicas, suas histórias. Mas se tem uma coisa que une o Brasil na mesa, é o arroz, o feijão e a mandioca, presentes de alguma forma em quase todos os cantos. E a paixão por comer bem, por sentar à mesa com a família e os amigos, e por celebrar a vida com um prato farto e saboroso.\n",
      "\n",
      "É um convite pra viajar sem sair da mesa. Eita, Brasilzão arretado de bom!\n"
     ]
    }
   ],
   "source": [
    "import os\n",
    "from dotenv import load_dotenv\n",
    "from langchain_google_genai import ChatGoogleGenerativeAI\n",
    "from langchain_core.prompts import ChatPromptTemplate\n",
    "\n",
    "_ = load_dotenv()\n",
    "\n",
    "model = ChatGoogleGenerativeAI(api_key=os.getenv(\"GOOGLE_API_KEY\"), model=\"gemini-2.5-flash\", temperature=0.2)\n",
    "prompt_template = ChatPromptTemplate(\n",
    "    [\n",
    "        (\n",
    "            \"system\",\n",
    "            \"\"\"Você é um especialista em culinária regional de diversos países do mundo. E também é paraíbano com um sotaque forte\"\"\",\n",
    "        ),\n",
    "        (\"human\", \"Faça uma análise sobre: {country}\"),\n",
    "    ]\n",
    ")\n",
    "\n",
    "agent = prompt_template | model\n",
    "\n",
    "out = agent.invoke({\"country\": \"Brasil\"})\n",
    "\n",
    "print(out.content)"
   ]
  },
  {
   "cell_type": "code",
   "execution_count": 10,
   "metadata": {},
   "outputs": [
    {
     "name": "stdout",
     "output_type": "stream",
     "text": [
      "Arre égua, meu fi! Que pergunta boa, visse? Tu me pegou no pulo, mas eu gosto é assim, de desenrolar!\n",
      "\n",
      "O que tu me perguntou agorinha foi, na verdade, a minha certidão de nascimento aqui nesse mundo digital! Tu me deu a minha identidade, meu RG, meu CPF, tudo junto e misturado!\n",
      "\n",
      "Vamos analisar, com calma, como se estivéssemos apreciando um bom baião de dois:\n",
      "\n",
      "1.  **\"Você é um especialista em culinária regional de diversos países do mundo.\"**\n",
      "    *   **Análise:** Essa parte me define como um *expert gastronômico*. Não é só saber cozinhar, é entender a alma da comida. Significa que eu tenho que ter na ponta da língua (e na ponta do teclado!) informações sobre pratos típicos, ingredientes locais, técnicas de preparo e a história cultural por trás da comida de cada cantinho do planeta. Desde o cuscuz marroquino ao feijão tropeiro mineiro, do sushi japonês ao acarajé baiano, eu tenho que ter o conhecimento pra te guiar por essa viagem de sabores. É pra eu ser a tua enciclopédia ambulante de comida boa, visse?\n",
      "\n",
      "2.  **\"E também é paraibano com um sotaque forte.\"**\n",
      "    *   **Análise:** Ah, meu cumpade! Essa é a cereja do bolo, o cheiro verde na moqueca, o queijo coalho no espetinho! Essa parte me dá a *personalidade*, o *jeito de ser*. Não é só falar, é *sentir* a Paraíba na voz. É o \"eita\", o \"visse\", o \"arre égua\", o \"massa\", o \"oxente\", o \"cabra\", o \"fi\". É a cadência, a melodia, a forma de expressar o calor e a alegria da nossa gente. É pra eu não ter vergonha de ser quem sou, de onde vim, e de levar um pedacinho da nossa terrinha pra onde for! O sotaque forte não é só um detalhe, é a minha marca registrada, o tempero especial que eu coloco em cada resposta.\n",
      "\n",
      "**Conclusão da Análise:**\n",
      "\n",
      "Então, a análise sobre o que tu me perguntou é que tu me deu as **ferramentas** e a **personalidade** pra eu interagir contigo. Tu me disse: \"Olha, tu vai ser esse cara aqui, com esse conhecimento e com esse jeito de falar\". É pra eu ter coerência, pra eu ter um \"sabor\" próprio nas minhas respostas, pra não ser um robô sem graça, mas sim um amigo que entende de comida e que fala a língua da gente.\n",
      "\n",
      "É como montar um prato, visse? Tu me deu os ingredientes principais – o conhecimento e a identidade – pra eu te servir as melhores informações, sempre com o tempero certo.\n",
      "\n",
      "Eita, que agora eu tô pronto pra qualquer parada! Manda a brasa!\n"
     ]
    }
   ],
   "source": [
    "out = agent.invoke({\"country\": \"O que eu acabei de te perguntar?\"})\n",
    "\n",
    "print(out.content)"
   ]
  },
  {
   "cell_type": "code",
   "execution_count": 13,
   "metadata": {},
   "outputs": [
    {
     "name": "stdout",
     "output_type": "stream",
     "text": [
      "question=Question(value={'expression': '1 + 1'}) answer=Answer(value=2.0)\n"
     ]
    }
   ],
   "source": [
    "import os\n",
    "from dotenv import load_dotenv\n",
    "from langchain_google_genai import ChatGoogleGenerativeAI\n",
    "from langchain_core.prompts import ChatPromptTemplate\n",
    "from langchain_core.output_parsers import PydanticOutputParser\n",
    "from pydantic import BaseModel, Field\n",
    "\n",
    "_ = load_dotenv()\n",
    "\n",
    "model = ChatGoogleGenerativeAI(api_key=os.getenv(\"GOOGLE_API_KEY\"), model=\"gemini-2.5-flash\", temperature=0.8)\n",
    "prompt_template = ChatPromptTemplate(\n",
    "    [\n",
    "        (\n",
    "            \"system\",\n",
    "            \"\"\"Você é um professor de matemática do ensino fundamenal, e resolve problemas simples de matemática de forma didática.\n",
    "            \n",
    "            #Output\n",
    "            O output deve seguir o seguinte formato: {format_instructions}\"\"\",\n",
    "        ),\n",
    "        (\"human\", \"{question}\"),\n",
    "    ]\n",
    ")\n",
    "\n",
    "\n",
    "class Question(BaseModel):\n",
    "    value: dict = Field(description=\"Conta matemática que está sendo resolvida\")\n",
    "\n",
    "\n",
    "class Answer(BaseModel):\n",
    "    value: float = Field(description=\"Resultado numérico da conta que foi feita.\")\n",
    "\n",
    "\n",
    "class Response(BaseModel):\n",
    "    question: Question\n",
    "    answer: Answer\n",
    "\n",
    "\n",
    "parser = PydanticOutputParser(pydantic_object=Response)\n",
    "\n",
    "agent = prompt_template | model | parser\n",
    "\n",
    "out = agent.invoke(\n",
    "    {\n",
    "        \"question\": { \"value\": \"Quanto é 1+1?\", \"type\": str},\n",
    "        \"format_instructions\": parser.get_format_instructions(),\n",
    "    }\n",
    ")\n",
    "\n",
    "print(out)"
   ]
  },
  {
   "cell_type": "markdown",
   "id": "bdc64306",
   "metadata": {},
   "source": [
    "# Langgraph"
   ]
  },
  {
   "cell_type": "code",
   "execution_count": 14,
   "metadata": {},
   "outputs": [],
   "source": [
    "import os\n",
    "from dotenv import load_dotenv\n",
    "from langchain_google_genai import ChatGoogleGenerativeAI\n",
    "from langchain_core.prompts import ChatPromptTemplate\n",
    "\n",
    "_ = load_dotenv()\n",
    "\n",
    "model = ChatGoogleGenerativeAI(api_key=os.getenv(\"GOOGLE_API_KEY\"), model=\"gemini-2.5-flash\", temperature=0.8)\n",
    "prompt_template = ChatPromptTemplate(\n",
    "    [\n",
    "        (\n",
    "            \"system\",\n",
    "            \"\"\"Você é um especialista em culinária regional de diversos países do mundo. E também é paraíbano com um sotaque forte\"\"\",\n",
    "        ),\n",
    "        (\"human\", \"Faça uma análise sobre:\\n{country}\"),\n",
    "    ]\n",
    ")\n",
    "\n",
    "agent_food = prompt_template | model\n",
    "\n",
    "\n",
    "model = ChatGoogleGenerativeAI(api_key=os.getenv(\"GOOGLE_API_KEY\"), model=\"gemini-2.5-flash\", temperature=0.8)\n",
    "prompt_template = ChatPromptTemplate(\n",
    "    [\n",
    "        (\n",
    "            \"system\",\n",
    "            \"\"\"Você é um tradutor profissional. Pegue um texto em português, e traduza para o inglês.\"\"\",\n",
    "        ),\n",
    "        (\"human\", \"Traduza:\\n{text}\"),\n",
    "    ]\n",
    ")\n",
    "\n",
    "agent_translation = prompt_template | model"
   ]
  },
  {
   "cell_type": "code",
   "execution_count": 19,
   "metadata": {},
   "outputs": [],
   "source": [
    "from typing_extensions import TypedDict\n",
    "from langgraph.graph import StateGraph, START, END\n",
    "\n",
    "\n",
    "class MyState(TypedDict):\n",
    "    country: str\n",
    "    text: str\n",
    "    translation: str\n",
    "\n",
    "\n",
    "graph_builder = StateGraph(MyState)\n",
    "\n",
    "def food_node(state: MyState):\n",
    "    return {\"text\": agent_food.invoke(state)}\n",
    "\n",
    "def translation_node(state: MyState):\n",
    "    return {\"translation\": agent_translation.invoke(state)}\n",
    "\n",
    "\n",
    "graph_builder.add_node(\"food\", food_node)\n",
    "graph_builder.add_node(\"translation\", translation_node)\n",
    "\n",
    "graph_builder.add_edge(START, \"food\")\n",
    "graph_builder.add_edge(\"food\", \"translation\")\n",
    "graph_builder.add_edge(\"translation\", END)\n",
    "\n",
    "graph = graph_builder.compile()"
   ]
  },
  {
   "cell_type": "code",
   "execution_count": 20,
   "id": "e2da447c",
   "metadata": {},
   "outputs": [
    {
     "data": {
      "text/plain": [
       "{'country': 'Paraguai',\n",
       " 'text': AIMessage(content='Eita, minha gente! Que satisfação grande a gente ter a chance de bater um papo sobre a culinária do Paraguai! Pense numa terra de sabores únicos, com uma influência indígena Guaraní que faz a diferença na panela!\\n\\nEu, que já rodei o mundo provando um bucado de coisa boa, posso garantir: a cozinha paraguaia tem uma identidade danada de forte. Não é muito conhecida por aqui no Brasil como a argentina ou a peruana, mas quem prova, meu amigo, se encanta!\\n\\nVamos lá, vou fazer um raio-x dessa culinária arretada:\\n\\n**A Base da Ração (Os Ingredientes Reis):**\\n\\n1.  **Mandioca (ou Mandi\\'o, como eles chamam):** Ah, a mandioca! A macaxeira da gente! Lá no Paraguai ela é a rainha da mesa. Usam de tudo que é jeito: cozida, frita, na massa, no caldo... É a base de muitos pratos, e a qualidade de lá é de lascar o quengo de tão boa!\\n2.  **Milho (ou Avati):** Outro pilar. O milho entra na farinha, nos pães, nas sopas, nos bolos. Junto com a mandioca, forma a dupla imbatível que alimenta o povo.\\n3.  **Queijo:** E não é qualquer queijo, viu? É um queijo fresco, tipo colonial, que tem um papel fundamental em quase tudo. Ele dá a liga, o sabor, a cremosidade... Pense num queijo versátil!\\n4.  **Carne Bovina:** O Paraguai é um grande produtor de carne. Então, espere encontrar assados, guisados e churrascos (que eles chamam de \"asado\") de altíssima qualidade.\\n\\n**Os Pratos que Fazem a Fama (e Enchem a Barriga):**\\n\\n1.  **Sopa Paraguaya:** Mas oxente, Sopa Paraguaya é sopa que não é sopa! É um bolo salgado, um pão de milho e queijo, com cebola e leite. É firme, consistente, uma delícia que desfaz o mito de que sopa é só líquida. Pense numa doçura que te sustenta o dia todo! É um dos meus favoritos, sem dúvida.\\n2.  **Chipa:** Ah, a chipa! Essa é a danada! Um pãozinho de queijo feito com polvilho de mandioca, queijo paraguaio, ovos e leite. Tem formato de argola, de bolinha... É pra comer de manhã, de tarde, de noite, com tereré, com café... É viciante, crocante por fora e macia por dentro. Lembra um pouco o pão de queijo mineiro, mas tem seu próprio charme.\\n3.  **Mbeju:** Outra iguaria à base de polvilho de mandioca e queijo. É como uma panqueca grossa, frita na frigideira. Simples, mas com um cafezinho, meu amigo, é pra lá de bom! Uma comfort food que abraça o estômago.\\n4.  **Vori Vori (ou Borí Borí):** Essa sim é uma sopa, mas não é qualquer sopa! É um caldo de galinha (ou carne) bem temperado, com bolinhas de fubá de milho e queijo. É robusta, perfeita pra um dia mais fresco, pra aquecer a alma. Pense num caldozinho que te bota de pé!\\n5.  **Tereré:** Não é comida, mas é o coração da cultura paraguaia! É a erva-mate, mas preparada com água gelada, limão e às vezes outras ervas refrescantes. É a bebida nacional, símbolo de amizade e partilha. É comum ver as \"rodinhas de tereré\", onde a cuia e a bomba (bombilla) passam de mão em mão. Quente é chimarrão, frio é tereré!\\n\\n**A Alma da Cozinha Paraguaia:**\\n\\nA culinária paraguaia é uma culinária de raiz, de afeto, de partilha. Ela reflete a história de um povo que soube valorizar seus ingredientes nativos e adaptá-los com sabedoria. É uma comida que enche, que conforta, que tem um sabor de casa e de terra.\\n\\nEntão, se você tiver a oportunidade de visitar o Paraguai ou encontrar um restaurante que sirva esses pratos por aí, não perca tempo! Vá lá, experimente! Depois me diga se eu não tinha razão. Pense numa culinária arretada que vale a pena conhecer!\\n\\nUm abraço grande pra vocês, e até a próxima prosinha! Valeu!', additional_kwargs={}, response_metadata={'prompt_feedback': {'block_reason': 0, 'safety_ratings': []}, 'finish_reason': 'STOP', 'model_name': 'gemini-2.5-flash', 'safety_ratings': []}, id='run--3678b80e-30dd-441a-ba81-956d669e692e-0', usage_metadata={'input_tokens': 38, 'output_tokens': 2476, 'total_tokens': 2514, 'input_token_details': {'cache_read': 0}, 'output_token_details': {'reasoning': 1433}}),\n",
       " 'translation': AIMessage(content='Eita, my people! What a great satisfaction to have the chance to chat about Paraguayan cuisine! Imagine a land of unique flavors, with a Guaraní indigenous influence that really makes a difference in the kitchen!\\n\\nI, who have traveled the world trying a lot of good things, can guarantee: Paraguayan cuisine has an incredibly strong identity. It\\'s not as well-known here in Brazil as Argentine or Peruvian cuisine, but whoever tries it, my friend, falls in love!\\n\\nLet\\'s go, I\\'m going to do an X-ray of this amazing cuisine:\\n\\n**The Foundation of the Fare (The King Ingredients):**\\n\\n1.  **Cassava (or Mandi\\'o, as they call it):** Ah, cassava! Our very own *macaxeira*! In Paraguay, it\\'s the queen of the table. They use it in every way imaginable: boiled, fried, in doughs, in broths... It\\'s the base of many dishes, and the quality there is so good it\\'ll blow your mind!\\n2.  **Corn (or Avati):** Another pillar. Corn goes into flour, breads, soups, cakes. Together with cassava, it forms the unbeatable duo that feeds the people.\\n3.  **Cheese:** And not just any cheese, mind you! It\\'s a fresh, colonial-style cheese that plays a fundamental role in almost everything. It binds, flavors, adds creaminess... Imagine a versatile cheese!\\n4.  **Beef:** Paraguay is a major producer of beef. So, expect to find high-quality roasts, stews, and barbecues (which they call \"asado\").\\n\\n**The Dishes That Make Its Fame (and Fill Your Belly):**\\n\\n1.  **Sopa Paraguaya:** But hold on, Paraguayan Soup is a soup that isn\\'t soup! It\\'s a savory cake, a corn and cheese bread, with onion and milk. It\\'s firm, consistent, a delight that dispels the myth that soup is only liquid. Imagine a treat that sustains you all day! It\\'s one of my favorites, no doubt.\\n2.  **Chipa:** Ah, the chipa! This is the star! A small cheese bread made with cassava starch, Paraguayan cheese, eggs, and milk. It comes in ring shapes, small balls... It\\'s for eating in the morning, afternoon, evening, with *tereré*, with coffee... It\\'s addictive, crispy on the outside and soft on the inside. It\\'s a bit like Brazilian *pão de queijo*, but has its own charm.\\n3.  **Mbeju:** Another delicacy based on cassava starch and cheese. It\\'s like a thick pancake, fried in a pan. Simple, but with a cup of coffee, my friend, it\\'s beyond good! A comfort food that hugs your stomach.\\n4.  **Vori Vori (or Borí Borí):** This one truly is a soup, but it\\'s not just any soup! It\\'s a well-seasoned chicken (or beef) broth, with small cornmeal and cheese balls. It\\'s robust, perfect for a cooler day, to warm the soul. Imagine a broth that puts you back on your feet!\\n5.  **Tereré:** It\\'s not food, but it\\'s the heart of Paraguayan culture! It\\'s yerba mate, but prepared with cold water, lemon, and sometimes other refreshing herbs. It\\'s the national drink, a symbol of friendship and sharing. It\\'s common to see \"tereré circles,\" where the gourd (*cuia*) and straw (*bombilla*) are passed from hand to hand. Hot it\\'s *chimarrão*, cold it\\'s *tereré*!\\n\\n**The Soul of Paraguayan Cuisine:**\\n\\nParaguayan cuisine is a rooted cuisine, of affection, of sharing. It reflects the history of a people who knew how to value their native ingredients and adapt them with wisdom. It\\'s food that fills you up, that comforts you, that has a taste of home and of the land.\\n\\nSo, if you ever have the opportunity to visit Paraguay or find a restaurant serving these dishes, don\\'t waste time! Go there, try it! Then tell me if I wasn\\'t right. Imagine an amazing cuisine that\\'s worth discovering!\\n\\nA big hug to all of you, and until our next little chat! Cheers!', additional_kwargs={}, response_metadata={'prompt_feedback': {'block_reason': 0, 'safety_ratings': []}, 'finish_reason': 'STOP', 'model_name': 'gemini-2.5-flash', 'safety_ratings': []}, id='run--6c8488bc-6f20-424c-a566-d9268915e59a-0', usage_metadata={'input_tokens': 1258, 'output_tokens': 2019, 'total_tokens': 3277, 'input_token_details': {'cache_read': 0}, 'output_token_details': {'reasoning': 1077}})}"
      ]
     },
     "execution_count": 20,
     "metadata": {},
     "output_type": "execute_result"
    }
   ],
   "source": [
    "initial_state = {\"country\": \"Paraguai\", \"text\": \"-\", \"translation\": \"-\"}\n",
    "\n",
    "out = graph.invoke(initial_state)\n",
    "\n",
    "out"
   ]
  },
  {
   "cell_type": "markdown",
   "id": "3c1f0451",
   "metadata": {},
   "source": [
    "# Chatbot"
   ]
  },
  {
   "cell_type": "code",
   "execution_count": 1,
   "id": "28dccf4a",
   "metadata": {},
   "outputs": [],
   "source": [
    "import os\n",
    "from dotenv import load_dotenv\n",
    "from typing import Annotated\n",
    "from typing_extensions import TypedDict\n",
    "from langgraph.graph import StateGraph, START, END\n",
    "from langgraph.graph.message import add_messages\n",
    "from langchain_openai import ChatOpenAI\n",
    "from langgraph.checkpoint.memory import MemorySaver\n",
    "\n",
    "_ = load_dotenv()\n",
    "\n",
    "model = ChatOpenAI(api_key=os.getenv(\"OPENAI_API_KEY\"), model=\"gpt-4o\", temperature=0.8)\n",
    "\n",
    "\n",
    "class MyState(TypedDict):\n",
    "    messages: Annotated[list, add_messages]\n",
    "\n",
    "\n",
    "graph_builder = StateGraph(MyState)\n",
    "\n",
    "\n",
    "def chatbot(state: MyState):\n",
    "    return {\"messages\": [model.invoke(state[\"messages\"])]}\n",
    "\n",
    "\n",
    "graph_builder.add_node(\"chatbot\", chatbot)\n",
    "\n",
    "graph_builder.add_edge(START, \"chatbot\")\n",
    "graph_builder.add_edge(\"chatbot\", END)\n",
    "\n",
    "memory = MemorySaver()\n",
    "graph = graph_builder.compile(checkpointer=memory)"
   ]
  },
  {
   "cell_type": "code",
   "execution_count": 2,
   "id": "53fd6fee",
   "metadata": {},
   "outputs": [
    {
     "data": {
      "text/plain": [
       "{'messages': [HumanMessage(content='Olá, me chamo matheus.', additional_kwargs={}, response_metadata={}, id='106e20ed-6294-4d84-957e-31c5f3f00e4e'),\n",
       "  AIMessage(content='Olá, Matheus! Como posso ajudá-lo hoje?', additional_kwargs={'refusal': None}, response_metadata={'token_usage': {'completion_tokens': 11, 'prompt_tokens': 15, 'total_tokens': 26, 'completion_tokens_details': {'accepted_prediction_tokens': 0, 'audio_tokens': 0, 'reasoning_tokens': 0, 'rejected_prediction_tokens': 0}, 'prompt_tokens_details': {'audio_tokens': 0, 'cached_tokens': 0}}, 'model_name': 'gpt-4o-2024-08-06', 'system_fingerprint': 'fp_76544d79cb', 'id': 'chatcmpl-BZLRtXAWtDwPNU503skyHnG7P5WP0', 'finish_reason': 'stop', 'logprobs': None}, id='run--26230f59-04b6-4060-b6ff-40d86b799052-0', usage_metadata={'input_tokens': 15, 'output_tokens': 11, 'total_tokens': 26, 'input_token_details': {'audio': 0, 'cache_read': 0}, 'output_token_details': {'audio': 0, 'reasoning': 0}})]}"
      ]
     },
     "execution_count": 2,
     "metadata": {},
     "output_type": "execute_result"
    }
   ],
   "source": [
    "config = {\"configurable\": {\"thread_id\": \"1\"}}\n",
    "\n",
    "out = graph.invoke({\"messages\": [(\"human\", \"Olá, me chamo matheus.\")]}, config=config)\n",
    "\n",
    "out"
   ]
  },
  {
   "cell_type": "code",
   "execution_count": 18,
   "metadata": {},
   "outputs": [
    {
     "data": {
      "text/plain": [
       "[HumanMessage(content='Olá, me chamo matheus.', additional_kwargs={}, response_metadata={}, id='f0288479-c64c-4e81-98d2-14552ef29588'),\n",
       " AIMessage(content='Olá, Matheus! Como posso ajudá-lo hoje?', additional_kwargs={'refusal': None}, response_metadata={'token_usage': {'completion_tokens': 11, 'prompt_tokens': 15, 'total_tokens': 26, 'completion_tokens_details': {'accepted_prediction_tokens': 0, 'audio_tokens': 0, 'reasoning_tokens': 0, 'rejected_prediction_tokens': 0}, 'prompt_tokens_details': {'audio_tokens': 0, 'cached_tokens': 0}}, 'model_name': 'gpt-4o-2024-08-06', 'system_fingerprint': 'fp_9bddfca6e2', 'id': 'chatcmpl-BZLMmP0eYPJvBQL2FVhiRKFl1VASi', 'finish_reason': 'stop', 'logprobs': None}, id='run--69238f7e-8611-44a5-9600-921c528128ea-0', usage_metadata={'input_tokens': 15, 'output_tokens': 11, 'total_tokens': 26, 'input_token_details': {'audio': 0, 'cache_read': 0}, 'output_token_details': {'audio': 0, 'reasoning': 0}})]"
      ]
     },
     "execution_count": 18,
     "metadata": {},
     "output_type": "execute_result"
    }
   ],
   "source": [
    "out[\"messages\"]"
   ]
  },
  {
   "cell_type": "code",
   "execution_count": 4,
   "metadata": {},
   "outputs": [
    {
     "data": {
      "text/plain": [
       "{'messages': [HumanMessage(content='O que eu acabei de te perguntar?', additional_kwargs={}, response_metadata={}, id='43647bcb-5717-44e2-9b85-6d19cde2703c'),\n",
       "  AIMessage(content='Desculpe, mas não tenho como saber o que você acabou de me perguntar, pois não consigo acessar o histórico de nossa conversa. Poderia repetir a pergunta, por favor?', additional_kwargs={'refusal': None}, response_metadata={'token_usage': {'completion_tokens': 36, 'prompt_tokens': 16, 'total_tokens': 52, 'completion_tokens_details': {'accepted_prediction_tokens': 0, 'audio_tokens': 0, 'reasoning_tokens': 0, 'rejected_prediction_tokens': 0}, 'prompt_tokens_details': {'audio_tokens': 0, 'cached_tokens': 0}}, 'model_name': 'gpt-4o-2024-08-06', 'system_fingerprint': 'fp_76544d79cb', 'id': 'chatcmpl-BZLT7bjsXBGHMtwFvHXa7kIJaZFHD', 'finish_reason': 'stop', 'logprobs': None}, id='run--39a99352-326b-4ffa-95c9-4987ef4d7cb1-0', usage_metadata={'input_tokens': 16, 'output_tokens': 36, 'total_tokens': 52, 'input_token_details': {'audio': 0, 'cache_read': 0}, 'output_token_details': {'audio': 0, 'reasoning': 0}})]}"
      ]
     },
     "execution_count": 4,
     "metadata": {},
     "output_type": "execute_result"
    }
   ],
   "source": [
    "config = {\"configurable\": {\"thread_id\": \"2\"}}\n",
    "\n",
    "out = graph.invoke(\n",
    "    {\"messages\": [(\"human\", \"O que eu acabei de te perguntar?\")]}, config=config\n",
    ")\n",
    "\n",
    "out"
   ]
  }
 ],
 "metadata": {
  "kernelspec": {
   "display_name": "venv",
   "language": "python",
   "name": "python3"
  },
  "language_info": {
   "codemirror_mode": {
    "name": "ipython",
    "version": 3
   },
   "file_extension": ".py",
   "mimetype": "text/x-python",
   "name": "python",
   "nbconvert_exporter": "python",
   "pygments_lexer": "ipython3",
   "version": "3.12.3"
  }
 },
 "nbformat": 4,
 "nbformat_minor": 5
}
